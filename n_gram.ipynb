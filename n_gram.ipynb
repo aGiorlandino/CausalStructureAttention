{
 "cells": [
  {
   "cell_type": "markdown",
   "metadata": {},
   "source": [
    "# Generate n-gram data "
   ]
  },
  {
   "cell_type": "code",
   "execution_count": 2,
   "metadata": {},
   "outputs": [
    {
     "name": "stdout",
     "output_type": "stream",
     "text": [
      "Generated Sequences:\n",
      "[[3 4 4 3 1 2 3 3 2 1 3 0 1 1 4 0 4 0 0 1 4 0 4 2 2]\n",
      " [3 2 2 1 2 3 3 1 0 4 3 1 1 4 4 1 0 0 3 3 0 2 3 2 0]\n",
      " [0 4 1 0 1 0 3 2 4 1 1 0 3 4 4 2 0 2 0 1 1 4 1 0 1]\n",
      " [3 3 1 1 1 0 3 4 4 4 1 0 4 1 1 3 2 2 0 1 3 3 0 0 3]\n",
      " [4 0 2 0 4 1 1 1 1 0 1 1 3 4 1 1 3 2 2 1 2 1 0 3 4]]\n"
     ]
    }
   ],
   "source": [
    "import numpy as np\n",
    "\n",
    "def create_transition_tensor(alphabet_size):\n",
    "    \"\"\"\n",
    "    Create a transition tensor for a trigram model.\n",
    "    \n",
    "    Args:\n",
    "    alphabet_size (int): Size of the alphabet (S).\n",
    "    \n",
    "    Returns:\n",
    "    np.ndarray: Transition tensor of shape (alphabet_size, alphabet_size, alphabet_size).\n",
    "    \"\"\"\n",
    "    transition_tensor = np.random.rand(alphabet_size, alphabet_size, alphabet_size)\n",
    "    transition_tensor = transition_tensor / transition_tensor.sum(axis=2, keepdims=True)  # Normalize to create probabilities\n",
    "    return transition_tensor\n",
    "\n",
    "def generate_sequence_from_trigram_model(transition_tensor, sequence_length):\n",
    "    \"\"\"\n",
    "    Generate a sequence using a trigram model.\n",
    "    \n",
    "    Args:\n",
    "    transition_tensor (np.ndarray): Transition tensor of shape (alphabet_size, alphabet_size, alphabet_size).\n",
    "    sequence_length (int): Length of the sequence to generate (T).\n",
    "    \n",
    "    Returns:\n",
    "    np.ndarray: Generated sequence of length sequence_length.\n",
    "    \"\"\"\n",
    "    alphabet_size = transition_tensor.shape[0]\n",
    "    sequence = np.zeros(sequence_length, dtype=int)\n",
    "    \n",
    "    # Start with two random tokens\n",
    "    sequence[0] = np.random.randint(alphabet_size)\n",
    "    sequence[1] = np.random.randint(alphabet_size)\n",
    "    \n",
    "    # Generate the rest of the sequence\n",
    "    for t in range(2, sequence_length):\n",
    "        previous_token_1 = sequence[t - 2]\n",
    "        previous_token_2 = sequence[t - 1]\n",
    "        next_token = np.random.choice(alphabet_size, p=transition_tensor[previous_token_1, previous_token_2])\n",
    "        sequence[t] = next_token\n",
    "    \n",
    "    return sequence\n",
    "\n",
    "def generate_sequences_from_trigram_model(alphabet_size, sequence_length, num_sequences):\n",
    "    \"\"\"\n",
    "    Generate multiple sequences using a trigram model.\n",
    "    \n",
    "    Args:\n",
    "    alphabet_size (int): Size of the alphabet (S).\n",
    "    sequence_length (int): Length of each sequence (T).\n",
    "    num_sequences (int): Number of sequences to generate.\n",
    "    \n",
    "    Returns:\n",
    "    np.ndarray: Array of shape (num_sequences, sequence_length) containing the generated sequences.\n",
    "    \"\"\"\n",
    "    transition_tensor = create_transition_tensor(alphabet_size)\n",
    "    sequences = np.array([generate_sequence_from_trigram_model(transition_tensor, sequence_length) for _ in range(num_sequences)])\n",
    "    return sequences\n",
    "\n",
    "# Parameters\n",
    "S = 5  # Alphabet size\n",
    "T = 25  # Sequence length\n",
    "num_sequences = 1000  # Number of sequences to generate\n",
    "\n",
    "# Generate sequences using a trigram model\n",
    "sequences = generate_sequences_from_trigram_model(S, T, num_sequences)\n",
    "print(\"Generated Sequences:\")\n",
    "print(sequences[:5])  # Print the first 5 sequences for inspection\n"
   ]
  },
  {
   "cell_type": "code",
   "execution_count": 3,
   "metadata": {},
   "outputs": [],
   "source": [
    "# Save the sequences to a file\n",
    "np.save(\"sequences.npy\", sequences)\n"
   ]
  }
 ],
 "metadata": {
  "kernelspec": {
   "display_name": "PyTorch",
   "language": "python",
   "name": "python3"
  },
  "language_info": {
   "codemirror_mode": {
    "name": "ipython",
    "version": 3
   },
   "file_extension": ".py",
   "mimetype": "text/x-python",
   "name": "python",
   "nbconvert_exporter": "python",
   "pygments_lexer": "ipython3",
   "version": "3.6.8"
  }
 },
 "nbformat": 4,
 "nbformat_minor": 2
}
